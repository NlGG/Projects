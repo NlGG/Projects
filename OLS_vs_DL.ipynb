{
 "cells": [
  {
   "cell_type": "code",
   "execution_count": 12,
   "metadata": {
    "collapsed": true
   },
   "outputs": [],
   "source": [
    "%matplotlib inline"
   ]
  },
  {
   "cell_type": "code",
   "execution_count": 13,
   "metadata": {
    "collapsed": false
   },
   "outputs": [],
   "source": [
    "import numpy as np\n",
    "import pandas as pd\n",
    "\n",
    "#　統計用ツール\n",
    "import statsmodels.api as sm\n",
    "import statsmodels.tsa.api as tsa\n",
    "from patsy import dmatrices\n",
    "\n",
    "#　自作の空間統計用ツール\n",
    "from spatialstat import *\n",
    "\n",
    "#描画\n",
    "import matplotlib.pyplot as plt\n",
    "from pandas.tools.plotting import autocorrelation_plot\n",
    "\n",
    "#クラスター\n",
    "from sklearn import mixture\n",
    "\n",
    "#深層学習\n",
    "import chainer\n",
    "from chainer import cuda, Function, gradient_check, Variable, optimizers, serializers, utils\n",
    "from chainer import Link, Chain, ChainList\n",
    "import chainer.functions as F\n",
    "import chainer.links as L"
   ]
  },
  {
   "cell_type": "markdown",
   "metadata": {},
   "source": [
    "# クラスター分けしてOLS"
   ]
  },
  {
   "cell_type": "markdown",
   "metadata": {
    "collapsed": true
   },
   "source": [
    "### 1 CSVをpandasで取り込む。"
   ]
  },
  {
   "cell_type": "code",
   "execution_count": 14,
   "metadata": {
    "collapsed": false
   },
   "outputs": [],
   "source": [
    "df = pd.read_csv('bukken_data.csv')\n",
    "df = df[:][df['pay'] < 300000]\n",
    "df = df.reset_index(drop=True)"
   ]
  },
  {
   "cell_type": "code",
   "execution_count": 15,
   "metadata": {
    "collapsed": false
   },
   "outputs": [
    {
     "data": {
      "text/plain": [
       "Index(['apart_dummy', 'building_year', 'dk', 'fX', 'fY', 'floor', 'k', 'lk',\n",
       "       'mansyon_dumy', 'new_dummy', 'pay', 'published_date', 'r', 'rc_dummy',\n",
       "       'room_nums', 'sdk', 'sk', 'sldk', 'slk', 'south_direction_dummy',\n",
       "       'square', 'teiki_syakuya_dummy', 'walk_minute_dummy'],\n",
       "      dtype='object')"
      ]
     },
     "execution_count": 15,
     "metadata": {},
     "output_type": "execute_result"
    }
   ],
   "source": [
    "df.columns"
   ]
  },
  {
   "cell_type": "markdown",
   "metadata": {},
   "source": [
    "### 2 部屋面積と位置でクラスター分類を利用してからOLS"
   ]
  },
  {
   "cell_type": "code",
   "execution_count": 59,
   "metadata": {
    "collapsed": true
   },
   "outputs": [],
   "source": [
    "def cluster_OLS(n):\n",
    "    dum1 = pd.DataFrame((df['pay'] < 100000)*1)\n",
    "    dum1.columns = ['low']\n",
    "    dum2 = pd.DataFrame((df['pay'] > 150000)*1)\n",
    "    dum2.columns = ['high']\n",
    "    dum = pd.concat((dum1, dum2), axis=1)\n",
    "    \n",
    "    df_with_dummy = pd.concat((df, dum), axis=1)\n",
    "    \n",
    "    cluster_array = np.array([df['square'], df['fX']*1000, df['fY']*1000])\n",
    "    gmm = mixture.GaussianMixture(n_components=n, covariance_type='full').fit(cluster_array.T)\n",
    "    dum = pd.get_dummies(gmm.predict(cluster_array.T))\n",
    "    dum_nam = ['d%s'%i for i in range(n)] \n",
    "    dum.columns = dum_nam\n",
    "    \n",
    "    df_with_dummy = pd.concat((df_with_dummy, dum), axis=1)\n",
    "\n",
    "    vars = ['pay', 'square', 'k', 'lk', 'dk', 'sdk', 'sldk', 'south_direction_dummy', 'building_year', \n",
    "            'new_dummy', 'mansyon_dumy', 'teiki_syakuya_dummy', 'walk_minute_dummy', 'r', 'rc_dummy', \n",
    "            'room_nums', 'low', 'high']\n",
    "    vars = vars + dum_nam[:-1]\n",
    "\n",
    "    eq = fml_build(vars)\n",
    "\n",
    "    y, X = dmatrices(eq, data=df_with_dummy, return_type='dataframe')\n",
    "    \n",
    "    y_in = y[1:1000]\n",
    "    X_in = X[1:1000]\n",
    "    \n",
    "    y_ex = y[1000:]\n",
    "    X_ex = X[1000:]\n",
    "\n",
    "    logy_in = np.log(y_in)\n",
    "\n",
    "    model = sm.GLS(logy_in, X_in, intercept=True)\n",
    "    results = model.fit()\n",
    "    print(results.summary())\n",
    "    \n",
    "    return results, np.array(y_ex).reshape(len(y_ex)), np.array(X_ex)"
   ]
  },
  {
   "cell_type": "code",
   "execution_count": 60,
   "metadata": {
    "collapsed": false
   },
   "outputs": [
    {
     "name": "stdout",
     "output_type": "stream",
     "text": [
      "                            GLS Regression Results                            \n",
      "==============================================================================\n",
      "Dep. Variable:                    pay   R-squared:                       0.865\n",
      "Model:                            GLS   Adj. R-squared:                  0.856\n",
      "Method:                 Least Squares   F-statistic:                     97.03\n",
      "Date:                Fri, 25 Nov 2016   Prob (F-statistic):               0.00\n",
      "Time:                        18:51:40   Log-Likelihood:                 646.31\n",
      "No. Observations:                 999   AIC:                            -1167.\n",
      "Df Residuals:                     936   BIC:                            -857.5\n",
      "Df Model:                          62                                         \n",
      "Covariance Type:            nonrobust                                         \n",
      "=========================================================================================\n",
      "                            coef    std err          t      P>|t|      [95.0% Conf. Int.]\n",
      "-----------------------------------------------------------------------------------------\n",
      "Intercept                 5.8398      0.095     61.381      0.000         5.653     6.026\n",
      "square                    0.0091      0.003      2.731      0.006         0.003     0.016\n",
      "k                        -0.0504      0.021     -2.401      0.017        -0.092    -0.009\n",
      "lk                    -7.499e-14   2.97e-15    -25.256      0.000     -8.08e-14 -6.92e-14\n",
      "dk                       -0.1023      0.023     -4.480      0.000        -0.147    -0.057\n",
      "sdk                    1.748e-15   7.15e-16      2.446      0.015      3.45e-16  3.15e-15\n",
      "sldk                  -5.187e-15   8.71e-16     -5.953      0.000      -6.9e-15 -3.48e-15\n",
      "south_direction_dummy    -0.0164      0.013     -1.298      0.195        -0.041     0.008\n",
      "building_year            -0.0049      0.001     -7.744      0.000        -0.006    -0.004\n",
      "new_dummy                -0.0249      0.009     -2.634      0.009        -0.043    -0.006\n",
      "mansyon_dumy              5.8398      0.095     61.381      0.000         5.653     6.026\n",
      "teiki_syakuya_dummy      -0.0279      0.036     -0.785      0.433        -0.098     0.042\n",
      "walk_minute_dummy         0.0019      0.005      0.369      0.712        -0.008     0.012\n",
      "r                        -0.0780      0.020     -3.840      0.000        -0.118    -0.038\n",
      "rc_dummy                  0.0544      0.024      2.259      0.024         0.007     0.102\n",
      "room_nums                 0.0431      0.020      2.203      0.028         0.005     0.081\n",
      "low                      -0.2157      0.020    -10.817      0.000        -0.255    -0.177\n",
      "high                      0.2289      0.019     12.108      0.000         0.192     0.266\n",
      "d0                       -0.0869      0.062     -1.411      0.159        -0.208     0.034\n",
      "d1                       -0.1741      0.108     -1.617      0.106        -0.385     0.037\n",
      "d2                       -0.1127      0.058     -1.942      0.052        -0.227     0.001\n",
      "d3                       -0.1910      0.123     -1.555      0.120        -0.432     0.050\n",
      "d4                       -0.1257      0.085     -1.479      0.139        -0.293     0.041\n",
      "d5                       -0.1645      0.068     -2.415      0.016        -0.298    -0.031\n",
      "d6                       -0.1667      0.116     -1.431      0.153        -0.395     0.062\n",
      "d7                       -0.3002      0.115     -2.620      0.009        -0.525    -0.075\n",
      "d8                       -0.0815      0.096     -0.845      0.398        -0.271     0.108\n",
      "d9                       -0.0855      0.057     -1.493      0.136        -0.198     0.027\n",
      "d10                      -0.3596      0.145     -2.477      0.013        -0.645    -0.075\n",
      "d11                      -0.1105      0.095     -1.162      0.245        -0.297     0.076\n",
      "d12                      -0.1461      0.066     -2.211      0.027        -0.276    -0.016\n",
      "d13                      -0.1962      0.123     -1.592      0.112        -0.438     0.046\n",
      "d14                      -0.0274      0.088     -0.310      0.756        -0.201     0.146\n",
      "d15                      -0.1418      0.116     -1.226      0.221        -0.369     0.085\n",
      "d16                      -0.3229      0.129     -2.510      0.012        -0.575    -0.070\n",
      "d17                      -0.1438      0.086     -1.672      0.095        -0.313     0.025\n",
      "d18                      -0.1020      0.061     -1.676      0.094        -0.222     0.017\n",
      "d19                      -0.0168      0.108     -0.155      0.877        -0.229     0.196\n",
      "d20                      -0.0037      0.054     -0.068      0.946        -0.109     0.101\n",
      "d21                      -0.0801      0.111     -0.724      0.469        -0.297     0.137\n",
      "d22                      -0.1173      0.063     -1.858      0.064        -0.241     0.007\n",
      "d23                      -0.1982      0.116     -1.705      0.089        -0.426     0.030\n",
      "d24                      -0.1131      0.085     -1.337      0.181        -0.279     0.053\n",
      "d25                      -0.4661      0.137     -3.393      0.001        -0.736    -0.197\n",
      "d26                      -0.1257      0.059     -2.114      0.035        -0.242    -0.009\n",
      "d27                      -0.1242      0.092     -1.346      0.179        -0.305     0.057\n",
      "d28                      -0.1837      0.107     -1.709      0.088        -0.395     0.027\n",
      "d29                      -0.2127      0.118     -1.798      0.072        -0.445     0.019\n",
      "d30                      -0.1834      0.123     -1.488      0.137        -0.425     0.058\n",
      "d31                      -0.1909      0.138     -1.383      0.167        -0.462     0.080\n",
      "d32                      -0.2033      0.111     -1.827      0.068        -0.422     0.015\n",
      "d33                      -0.0237      0.073     -0.326      0.745        -0.166     0.119\n",
      "d34                      -0.1896      0.060     -3.141      0.002        -0.308    -0.071\n",
      "d35                      -0.1891      0.119     -1.588      0.113        -0.423     0.045\n",
      "d36                      -0.1856      0.053     -3.472      0.001        -0.290    -0.081\n",
      "d37                      -0.0890      0.067     -1.324      0.186        -0.221     0.043\n",
      "d38                      -0.0088      0.097     -0.090      0.928        -0.199     0.182\n",
      "d39                      -0.1576      0.093     -1.694      0.091        -0.340     0.025\n",
      "d40                      -0.2027      0.104     -1.955      0.051        -0.406     0.001\n",
      "d41                      -0.1905      0.095     -2.003      0.045        -0.377    -0.004\n",
      "d42                      -0.1266      0.090     -1.400      0.162        -0.304     0.051\n",
      "d43                      -0.1233      0.117     -1.050      0.294        -0.354     0.107\n",
      "d44                      -0.1869      0.112     -1.666      0.096        -0.407     0.033\n",
      "d45                      -0.1006      0.094     -1.073      0.284        -0.285     0.083\n",
      "d46                      -0.1634      0.088     -1.854      0.064        -0.336     0.010\n",
      "d47                      -0.0671      0.084     -0.800      0.424        -0.232     0.097\n",
      "d48                      -0.0277      0.069     -0.399      0.690        -0.164     0.109\n",
      "==============================================================================\n",
      "Omnibus:                     1525.247   Durbin-Watson:                   1.695\n",
      "Prob(Omnibus):                  0.000   Jarque-Bera (JB):           875214.888\n",
      "Skew:                          -8.758   Prob(JB):                         0.00\n",
      "Kurtosis:                     146.942   Cond. No.                     1.57e+16\n",
      "==============================================================================\n",
      "\n",
      "Warnings:\n",
      "[1] Standard Errors assume that the covariance matrix of the errors is correctly specified.\n",
      "[2] The smallest eigenvalue is 6.5e-27. This might indicate that there are\n",
      "strong multicollinearity problems or that the design matrix is singular.\n"
     ]
    }
   ],
   "source": [
    "n=50\n",
    "\n",
    "results, y_ex, X_ex = cluster_OLS(n)"
   ]
  },
  {
   "cell_type": "code",
   "execution_count": 61,
   "metadata": {
    "collapsed": false
   },
   "outputs": [
    {
     "name": "stdout",
     "output_type": "stream",
     "text": [
      "[ -2058.72822694 -12058.72822694   2025.9571949   -2058.72822694\n",
      "   1778.59356576  -2974.0428051    9850.00174397   4957.38474505\n",
      "  10161.81131176  -5646.95695557  -5646.95695557 -12646.95695557\n",
      "  32134.46686969  59730.46910525   7326.92849608  67955.82667695\n",
      "  36757.51873117   8461.72022571  49211.38057774   7783.15981049]\n"
     ]
    },
    {
     "data": {
      "text/plain": [
       "(array([   4.,   19.,   64.,  152.,  117.,   46.,   11.,    5.,    6.,    3.]),\n",
       " array([-51644.22437441, -38328.01669036, -25011.80900631, -11695.60132225,\n",
       "          1620.6063618 ,  14936.81404585,  28253.0217299 ,  41569.22941395,\n",
       "         54885.437098  ,  68201.64478206,  81517.85246611]),\n",
       " <a list of 10 Patch objects>)"
      ]
     },
     "execution_count": 61,
     "metadata": {},
     "output_type": "execute_result"
    },
    {
     "data": {
      "image/png": "[encoded data removed]",
      "text/plain": [
       "<matplotlib.figure.Figure at 0x11595a400>"
      ]
     },
     "metadata": {},
     "output_type": "display_data"
    }
   ],
   "source": [
    "logy_pred = results.params.dot(X_ex.T)\n",
    "y_pred = np.exp(logy_pred)\n",
    "error = y_ex - y_pred\n",
    "print(error[:20])\n",
    "plt.hist(error)"
   ]
  },
  {
   "cell_type": "code",
   "execution_count": 62,
   "metadata": {
    "collapsed": false
   },
   "outputs": [
    {
     "name": "stdout",
     "output_type": "stream",
     "text": [
      "130\n",
      "299\n",
      "393\n"
     ]
    }
   ],
   "source": [
    "print(sum(((error > -5000)*1)*((error < 5000)*1)))\n",
    "print(sum(((error > -15000)*1)*((error < 15000)*1)))\n",
    "print(sum(((error > -30000)*1)*((error < 30000)*1)))"
   ]
  },
  {
   "cell_type": "code",
   "execution_count": 83,
   "metadata": {
    "collapsed": false
   },
   "outputs": [
    {
     "data": {
      "text/plain": [
       "[<matplotlib.lines.Line2D at 0x11bfae080>]"
      ]
     },
     "execution_count": 83,
     "metadata": {},
     "output_type": "execute_result"
    },
    {
     "data": {
      "image/png": "[encoded data removed]",
      "text/plain": [
       "<matplotlib.figure.Figure at 0x11bfaecf8>"
      ]
     },
     "metadata": {},
     "output_type": "display_data"
    }
   ],
   "source": [
    "plt.plot(y_pred)\n",
    "plt.plot(y_ex)"
   ]
  },
  {
   "cell_type": "markdown",
   "metadata": {
    "collapsed": true
   },
   "source": [
    "### 3 部屋面積と位置でクラスター分類を利用してからDeepLearning"
   ]
  },
  {
   "cell_type": "code",
   "execution_count": 25,
   "metadata": {
    "collapsed": true
   },
   "outputs": [],
   "source": [
    "class CAR(Chain):\n",
    "    def __init__(self, unit1, unit2, unit3, col_num):\n",
    "        self.unit1 = unit1\n",
    "        self.unit2 = unit2\n",
    "        self.unit3 = unit3\n",
    "        super(CAR, self).__init__(\n",
    "            l1 = L.Linear(col_num, unit1),\n",
    "            l2 = L.Linear(self.unit1, self.unit1),\n",
    "            l3 = L.Linear(self.unit1, self.unit2),\n",
    "            l4 = L.Linear(self.unit2, self.unit3),\n",
    "            l5 = L.Linear(self.unit3, self.unit3),\n",
    "            l6 = L.Linear(self.unit3, 1),\n",
    "        )\n",
    "    \n",
    "    def __call__(self, x, y):\n",
    "        fv = self.fwd(x, y)\n",
    "        loss = F.mean_squared_error(fv, y)\n",
    "        return loss\n",
    "    \n",
    "    def fwd(self, x, y):\n",
    "        h1 = F.sigmoid(self.l1(x))\n",
    "        h2 = F.sigmoid(self.l2(h1))\n",
    "        h3 = F.sigmoid(self.l3(h2))\n",
    "        h4 = F.sigmoid(self.l4(h3))\n",
    "        h5 = F.sigmoid(self.l5(h4))\n",
    "        h6 = self.l6(h5)\n",
    "        return h6"
   ]
  },
  {
   "cell_type": "code",
   "execution_count": 42,
   "metadata": {
    "collapsed": true
   },
   "outputs": [],
   "source": [
    "def DL(df, n, bs = 200):\n",
    "    dum1 = pd.DataFrame((df['pay'] < 100000)*1)\n",
    "    dum1.columns = ['low']\n",
    "    dum2 = pd.DataFrame((df['pay'] > 150000)*1)\n",
    "    dum2.columns = ['high']\n",
    "    dum = pd.concat((dum1, dum2), axis=1)\n",
    "    \n",
    "    df_with_dummy = pd.concat((df, dum), axis=1)\n",
    "    \n",
    "    cluster_array = np.array([df['square'], df['fX']*1000, df['fY']*1000])\n",
    "    gmm = mixture.GaussianMixture(n_components=n, covariance_type='full').fit(cluster_array.T)\n",
    "    dum = pd.get_dummies(gmm.predict(cluster_array.T))\n",
    "    dum_nam = ['d%s'%i for i in range(n)] \n",
    "    dum.columns = dum_nam\n",
    "    \n",
    "    df_with_dummy = pd.concat((df_with_dummy, dum), axis=1)\n",
    "\n",
    "    vars = ['pay', 'square', 'k', 'lk', 'dk', 'sdk', 'sldk', 'south_direction_dummy', 'building_year', \n",
    "            'new_dummy', 'mansyon_dumy', 'teiki_syakuya_dummy', 'walk_minute_dummy', 'r', 'rc_dummy', \n",
    "            'room_nums', 'low', 'high']\n",
    "    vars = vars + dum_nam[:-1]\n",
    "\n",
    "    eq = fml_build(vars)\n",
    "\n",
    "    y, X = dmatrices(eq, data=df_with_dummy, return_type='dataframe')\n",
    "    \n",
    "    y_in = y[1:1000]\n",
    "    X_in = X[1:1000]\n",
    "    \n",
    "    y_ex = y[1000:]\n",
    "    X_ex = X[1000:]\n",
    "\n",
    "    logy_in = np.log(y_in)\n",
    "    \n",
    "    logy_in = np.array(logy_in, dtype='float32')\n",
    "    X_in = np.array(X_in, dtype='float32')\n",
    "    \n",
    "    y = Variable(logy_in)\n",
    "    x = Variable(X_in)\n",
    "    \n",
    "    num, col_num = X_in.shape\n",
    "\n",
    "    model1 = CAR(10, 10, 3, col_num)\n",
    "    optimizer = optimizers.SGD()\n",
    "    optimizer.setup(model1)\n",
    "    \n",
    "    for j in range(1000):\n",
    "        sffindx = np.random.permutation(num)\n",
    "        for i in range(0, num, bs):\n",
    "            x = Variable(X_in[sffindx[i:(i+bs) if (i+bs) < num else num]])\n",
    "            y = Variable(logy_in[sffindx[i:(i+bs) if (i+bs) < num else num]])\n",
    "            model1.zerograds()\n",
    "            loss = model1(x, y)\n",
    "            loss.backward()\n",
    "            optimizer.update()\n",
    "        if j % 1000 == 0:\n",
    "            loss_val = loss.data\n",
    "            print('epoch:', j)\n",
    "            print('train mean loss={}'.format(loss_val))\n",
    "            print(' - - - - - - - - - ')\n",
    "    \n",
    "    return model1, np.array(y_ex, dtype='float32').reshape(len(y_ex)), np.array(X_ex, dtype='float32')"
   ]
  },
  {
   "cell_type": "code",
   "execution_count": 44,
   "metadata": {
    "collapsed": false
   },
   "outputs": [
    {
     "name": "stdout",
     "output_type": "stream",
     "text": [
      "epoch: 0\n",
      "train mean loss=105.35887145996094\n",
      " - - - - - - - - - \n",
      "epoch: 1000\n",
      "train mean loss=0.10744299739599228\n",
      " - - - - - - - - - \n",
      "epoch: 2000\n",
      "train mean loss=0.12936271727085114\n",
      " - - - - - - - - - \n",
      "epoch: 3000\n",
      "train mean loss=0.11869735270738602\n",
      " - - - - - - - - - \n",
      "epoch: 4000\n",
      "train mean loss=0.11930324882268906\n",
      " - - - - - - - - - \n",
      "epoch: 5000\n",
      "train mean loss=0.0849682092666626\n",
      " - - - - - - - - - \n",
      "epoch: 6000\n",
      "train mean loss=0.07333460450172424\n",
      " - - - - - - - - - \n",
      "epoch: 7000\n",
      "train mean loss=0.04295388236641884\n",
      " - - - - - - - - - \n",
      "epoch: 8000\n",
      "train mean loss=0.04604930803179741\n",
      " - - - - - - - - - \n",
      "epoch: 9000\n",
      "train mean loss=0.00910791102796793\n",
      " - - - - - - - - - \n"
     ]
    }
   ],
   "source": [
    "results, y_ex, X_ex = DL(df, 20)"
   ]
  },
  {
   "cell_type": "code",
   "execution_count": 57,
   "metadata": {
    "collapsed": false
   },
   "outputs": [
    {
     "name": "stdout",
     "output_type": "stream",
     "text": [
      "[    84.2109375  -9915.7890625   7287.765625      84.2109375   3296.4375\n",
      "   2287.765625   24926.1953125   5728.5         7833.2265625 -31672.1875\n",
      " -31672.1875    -38672.1875     18973.8125     39655.375       6056.984375\n",
      "  48828.03125     6185.84375   -10770.375      47317.0625      6918.078125 ]\n"
     ]
    },
    {
     "data": {
      "text/plain": [
       "(array([  10.,   27.,   75.,  178.,   80.,   41.,    4.,    4.,    5.,    3.]),\n",
       " array([-39911.09375 , -28267.921875, -16624.75    ,  -4981.578125,\n",
       "          6661.59375 ,  18304.765625,  29947.9375  ,  41591.109375,\n",
       "         53234.28125 ,  64877.453125,  76520.625   ]),\n",
       " <a list of 10 Patch objects>)"
      ]
     },
     "execution_count": 57,
     "metadata": {},
     "output_type": "execute_result"
    },
    {
     "data": {
      "image/png": "[encoded data removed]",
      "text/plain": [
       "<matplotlib.figure.Figure at 0x11b8165c0>"
      ]
     },
     "metadata": {},
     "output_type": "display_data"
    }
   ],
   "source": [
    "X_ex = Variable(X_ex)\n",
    "logy_ex = Variable(np.log(y_ex))\n",
    "\n",
    "logy_pred =  results.fwd(X_ex, logy_ex).data\n",
    "y_pred = np.exp(logy_pred)\n",
    "error = y_ex - y_pred.reshape(len(y_pred),)\n",
    "print(error[:20])\n",
    "plt.hist(error)"
   ]
  },
  {
   "cell_type": "code",
   "execution_count": 58,
   "metadata": {
    "collapsed": false
   },
   "outputs": [
    {
     "name": "stdout",
     "output_type": "stream",
     "text": [
      "154\n",
      "314\n",
      "403\n"
     ]
    }
   ],
   "source": [
    "print(sum(((error > -5000)*1)*((error < 5000)*1)))\n",
    "print(sum(((error > -15000)*1)*((error < 15000)*1)))\n",
    "print(sum(((error > -30000)*1)*((error < 30000)*1)))"
   ]
  },
  {
   "cell_type": "code",
   "execution_count": null,
   "metadata": {
    "collapsed": true
   },
   "outputs": [],
   "source": []
  }
 ],
 "metadata": {
  "kernelspec": {
   "display_name": "Python 3",
   "language": "python",
   "name": "python3"
  },
  "language_info": {
   "codemirror_mode": {
    "name": "ipython",
    "version": 3
   },
   "file_extension": ".py",
   "mimetype": "text/x-python",
   "name": "python",
   "nbconvert_exporter": "python",
   "pygments_lexer": "ipython3",
   "version": "3.5.1"
  }
 },
 "nbformat": 4,
 "nbformat_minor": 0
}
