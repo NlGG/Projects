{
 "cells": [
  {
   "cell_type": "code",
   "execution_count": 1,
   "metadata": {
    "collapsed": true
   },
   "outputs": [],
   "source": [
    "import numpy as np\n",
    "import pandas as pd"
   ]
  },
  {
   "cell_type": "code",
   "execution_count": 2,
   "metadata": {
    "collapsed": false
   },
   "outputs": [],
   "source": [
    "from rcm import rcm_model"
   ]
  },
  {
   "cell_type": "markdown",
   "metadata": {},
   "source": [
    "モデルの説明:$y_i=x_ib_i+\\epsilon_i$  \n",
    "地域ごとに異なる（物件iごとに異なる）係数を推定する.  \n",
    "従来のモデルだと$y_i=x_ib+\\epsilon_i$  \n",
    "具体的には\n",
    "$$y_i=x_ib_i+\\epsilon_i$$\n",
    "$$b_i = b_1 + 緯度_i*b_2 + 経度_i*b_3 + \\nu_i $$"
   ]
  },
  {
   "cell_type": "code",
   "execution_count": 3,
   "metadata": {
    "collapsed": false
   },
   "outputs": [],
   "source": [
    "datas = pd.read_csv(\"data2.csv\")"
   ]
  },
  {
   "cell_type": "code",
   "execution_count": 4,
   "metadata": {
    "collapsed": false
   },
   "outputs": [],
   "source": [
    "y, X, reg, params = rcm_model(datas)"
   ]
  },
  {
   "cell_type": "code",
   "execution_count": 6,
   "metadata": {
    "collapsed": false
   },
   "outputs": [
    {
     "data": {
      "text/html": [
       "<div>\n",
       "<table border=\"1\" class=\"dataframe\">\n",
       "  <thead>\n",
       "    <tr style=\"text-align: right;\">\n",
       "      <th></th>\n",
       "      <th>A</th>\n",
       "      <th>CMD</th>\n",
       "      <th>FAR</th>\n",
       "      <th>IDD</th>\n",
       "      <th>Intercept</th>\n",
       "      <th>L</th>\n",
       "      <th>R</th>\n",
       "      <th>RW</th>\n",
       "      <th>S</th>\n",
       "      <th>SOUTH</th>\n",
       "      <th>TS</th>\n",
       "      <th>TT</th>\n",
       "      <th>WOOD</th>\n",
       "    </tr>\n",
       "  </thead>\n",
       "  <tbody>\n",
       "    <tr>\n",
       "      <th>0</th>\n",
       "      <td>-0.000519</td>\n",
       "      <td>-0.273986</td>\n",
       "      <td>0.007777</td>\n",
       "      <td>-0.087640</td>\n",
       "      <td>7.942832</td>\n",
       "      <td>0.003362</td>\n",
       "      <td>-0.015468</td>\n",
       "      <td>0.016275</td>\n",
       "      <td>0.003514</td>\n",
       "      <td>0.011923</td>\n",
       "      <td>-0.000014</td>\n",
       "      <td>0.000862</td>\n",
       "      <td>-0.153266</td>\n",
       "    </tr>\n",
       "    <tr>\n",
       "      <th>1</th>\n",
       "      <td>-0.000294</td>\n",
       "      <td>-0.245483</td>\n",
       "      <td>-0.004570</td>\n",
       "      <td>-0.133631</td>\n",
       "      <td>9.063760</td>\n",
       "      <td>0.002832</td>\n",
       "      <td>-0.030942</td>\n",
       "      <td>0.038498</td>\n",
       "      <td>0.003180</td>\n",
       "      <td>-0.002408</td>\n",
       "      <td>-0.009685</td>\n",
       "      <td>-0.006136</td>\n",
       "      <td>-0.173825</td>\n",
       "    </tr>\n",
       "    <tr>\n",
       "      <th>2</th>\n",
       "      <td>-0.000886</td>\n",
       "      <td>-0.101418</td>\n",
       "      <td>0.002478</td>\n",
       "      <td>0.024245</td>\n",
       "      <td>7.929167</td>\n",
       "      <td>0.003532</td>\n",
       "      <td>0.016389</td>\n",
       "      <td>0.000861</td>\n",
       "      <td>0.003190</td>\n",
       "      <td>0.015911</td>\n",
       "      <td>-0.002410</td>\n",
       "      <td>-0.002931</td>\n",
       "      <td>0.007647</td>\n",
       "    </tr>\n",
       "    <tr>\n",
       "      <th>3</th>\n",
       "      <td>-0.000857</td>\n",
       "      <td>0.067495</td>\n",
       "      <td>-0.003238</td>\n",
       "      <td>0.034157</td>\n",
       "      <td>8.200572</td>\n",
       "      <td>0.003138</td>\n",
       "      <td>0.017271</td>\n",
       "      <td>-0.001814</td>\n",
       "      <td>0.004237</td>\n",
       "      <td>0.019935</td>\n",
       "      <td>-0.003932</td>\n",
       "      <td>-0.003859</td>\n",
       "      <td>0.022396</td>\n",
       "    </tr>\n",
       "    <tr>\n",
       "      <th>4</th>\n",
       "      <td>-0.000885</td>\n",
       "      <td>-0.128365</td>\n",
       "      <td>0.001501</td>\n",
       "      <td>-0.104254</td>\n",
       "      <td>7.900296</td>\n",
       "      <td>0.003134</td>\n",
       "      <td>-0.005047</td>\n",
       "      <td>0.013597</td>\n",
       "      <td>0.004687</td>\n",
       "      <td>0.022148</td>\n",
       "      <td>-0.001202</td>\n",
       "      <td>-0.003638</td>\n",
       "      <td>-0.085039</td>\n",
       "    </tr>\n",
       "  </tbody>\n",
       "</table>\n",
       "</div>"
      ],
      "text/plain": [
       "          A       CMD       FAR       IDD  Intercept         L         R  \\\n",
       "0 -0.000519 -0.273986  0.007777 -0.087640   7.942832  0.003362 -0.015468   \n",
       "1 -0.000294 -0.245483 -0.004570 -0.133631   9.063760  0.002832 -0.030942   \n",
       "2 -0.000886 -0.101418  0.002478  0.024245   7.929167  0.003532  0.016389   \n",
       "3 -0.000857  0.067495 -0.003238  0.034157   8.200572  0.003138  0.017271   \n",
       "4 -0.000885 -0.128365  0.001501 -0.104254   7.900296  0.003134 -0.005047   \n",
       "\n",
       "         RW         S     SOUTH        TS        TT      WOOD  \n",
       "0  0.016275  0.003514  0.011923 -0.000014  0.000862 -0.153266  \n",
       "1  0.038498  0.003180 -0.002408 -0.009685 -0.006136 -0.173825  \n",
       "2  0.000861  0.003190  0.015911 -0.002410 -0.002931  0.007647  \n",
       "3 -0.001814  0.004237  0.019935 -0.003932 -0.003859  0.022396  \n",
       "4  0.013597  0.004687  0.022148 -0.001202 -0.003638 -0.085039  "
      ]
     },
     "execution_count": 6,
     "metadata": {},
     "output_type": "execute_result"
    }
   ],
   "source": [
    "params.head()"
   ]
  },
  {
   "cell_type": "markdown",
   "metadata": {},
   "source": [
    "$$y_i=x_ib_i+\\epsilon_i$$\n",
    "$$b_i = b_1 + 緯度_i*b_2 + 経度_i*b_3 + \\nu_i $$\n",
    "は、\n",
    "$$y_i=x_i(b_1 + 緯度_i*b_2 + 経度_i*b_3 + \\nu_i) +\\epsilon_i$$\n",
    "となるので、xを用いてyを予測したいときは、内挿と外挿に関わらず、以下のように行う."
   ]
  },
  {
   "cell_type": "code",
   "execution_count": 12,
   "metadata": {
    "collapsed": false
   },
   "outputs": [
    {
     "data": {
      "text/plain": [
       "0    11149.396090\n",
       "1     7960.605046\n",
       "2     5503.421478\n",
       "3     5104.033986\n",
       "4     4251.498726\n",
       "dtype: float64"
      ]
     },
     "execution_count": 12,
     "metadata": {},
     "output_type": "execute_result"
    }
   ],
   "source": [
    "np.exp((reg.params*X).T.sum().head())"
   ]
  },
  {
   "cell_type": "code",
   "execution_count": null,
   "metadata": {
    "collapsed": true
   },
   "outputs": [],
   "source": []
  }
 ],
 "metadata": {
  "kernelspec": {
   "display_name": "Python 3",
   "language": "python",
   "name": "python3"
  },
  "language_info": {
   "codemirror_mode": {
    "name": "ipython",
    "version": 3
   },
   "file_extension": ".py",
   "mimetype": "text/x-python",
   "name": "python",
   "nbconvert_exporter": "python",
   "pygments_lexer": "ipython3",
   "version": "3.6.0"
  }
 },
 "nbformat": 4,
 "nbformat_minor": 2
}
